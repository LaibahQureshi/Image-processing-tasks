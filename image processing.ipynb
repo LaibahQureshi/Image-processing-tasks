{
 "cells": [
  {
   "cell_type": "markdown",
   "id": "17a40855-f5a0-4257-8aed-b73cbea27864",
   "metadata": {},
   "source": [
    "Write a program in MATLAB or Python that takes an image as input and displays\n",
    "its attributes. Your program should be able to take an image file as input. You can\n",
    "either prompt the user to enter the file path or use a predefined path for testing\n",
    "purposes.\n",
    "Once the image is loaded, your program should display the following attributes:\n",
    "• Dimensions: Height and width of the image in pixels.\n",
    "• Color Channels: Number of color channels (e.g., 3 for RGB, 1 for grayscale).\n",
    "• File Size: Size of the image file in kilobytes (KB).\n",
    "• Mean Pixel Intensity: Average pixel intensity for each channel.\n",
    "• Image Type: Identify whether the image is grayscale or colored."
   ]
  },
  {
   "cell_type": "code",
   "execution_count": 105,
   "id": "bad779e8-bce0-40e7-897b-2ebd42a6d03e",
   "metadata": {},
   "outputs": [
    {
     "name": "stdout",
     "output_type": "stream",
     "text": [
      "Defaulting to user installation because normal site-packages is not writeableNote: you may need to restart the kernel to use updated packages.\n",
      "\n",
      "Requirement already satisfied: pillow in c:\\programdata\\anaconda3\\lib\\site-packages (10.4.0)\n"
     ]
    }
   ],
   "source": [
    "pip install pillow"
   ]
  },
  {
   "cell_type": "markdown",
   "id": "0c4bb687-600e-41a4-b057-c71010921ffe",
   "metadata": {},
   "source": [
    "### JPG Pillow Library"
   ]
  },
  {
   "cell_type": "markdown",
   "id": "f4838c80-df14-45f8-b8bf-fd5418d07e03",
   "metadata": {},
   "source": [
    "### NO of bands\n",
    "### opening \n",
    "### size"
   ]
  },
  {
   "cell_type": "code",
   "execution_count": 108,
   "id": "46c7d620-aabc-4570-b594-ecd935beef07",
   "metadata": {},
   "outputs": [
    {
     "name": "stdout",
     "output_type": "stream",
     "text": [
      "Width: 1216, Height: 1268\n",
      "Color bands: ('R', 'G', 'B')\n"
     ]
    }
   ],
   "source": [
    "from PIL import Image\n",
    "image_path = r'C:\\Users\\A J Laptops\\Documents\\photos\\103D3400\\IMG_20210519_042215.jpg'\n",
    "try:\n",
    "    image = Image.open(image_path)\n",
    "    image.show()\n",
    "    width, height = image.size\n",
    "    print(f'Width: {width}, Height: {height}')\n",
    "    bands = image.getbands() \n",
    "    print(f'Color bands: {bands}')\n",
    "except Exception as e: \n",
    "    print(f\"File not found: {e}\")"
   ]
  },
  {
   "cell_type": "markdown",
   "id": "5282e950-d52b-4204-bf16-f44934af7f90",
   "metadata": {},
   "source": [
    "## file size"
   ]
  },
  {
   "cell_type": "code",
   "execution_count": 110,
   "id": "9e0c5289-41ea-4354-aafd-ec9a5df25913",
   "metadata": {},
   "outputs": [
    {
     "name": "stdout",
     "output_type": "stream",
     "text": [
      "813747\n",
      "794.6748046875\n"
     ]
    }
   ],
   "source": [
    "from PIL import Image\n",
    "import os\n",
    "image_path = r'C:\\Users\\A J Laptops\\Documents\\photos\\103D3400\\IMG_20210519_042215.jpg'\n",
    "try:\n",
    "    image = Image.open(image_path)\n",
    "    image.show()\n",
    "    file_size_bytes = os.path.getsize(image_path)\n",
    "    print(file_size_bytes)\n",
    "    kbs = file_size_bytes / 1024\n",
    "    print(kbs)\n",
    "    \n",
    "except Exception as e: \n",
    "    print(f\"File not found: {e}\")"
   ]
  },
  {
   "cell_type": "code",
   "execution_count": 111,
   "id": "4d87dc17-2b5a-4bf2-98c3-f4ba1fd967cf",
   "metadata": {},
   "outputs": [
    {
     "name": "stdin",
     "output_type": "stream",
     "text": [
      "Enter image path:   r'C:\\Users\\A J Laptops\\Documents\\photos\\103D3400\\IMG_20210519_042215.jpg'\n"
     ]
    },
    {
     "name": "stdout",
     "output_type": "stream",
     "text": [
      "An error occurred: [Errno 22] Invalid argument: \"C:\\\\Users\\\\A J Laptops\\\\ r'C:\\\\Users\\\\A J Laptops\\\\Documents\\\\photos\\\\103D3400\\\\IMG_20210519_042215.jpg'\"\n"
     ]
    }
   ],
   "source": [
    "from PIL import Image\n",
    "\n",
    "image_path = input(\"Enter image path: \")\n",
    "try:\n",
    "    image = Image.open(image_path)\n",
    "    image.show()\n",
    "    width, height = image.size\n",
    "    print(f'Width: {width}, Height: {height}')\n",
    "    bands = image.getbands() \n",
    "    print(f'Color bands: {bands}')\n",
    "except FileNotFoundError as e:\n",
    "    print(f'File not found: {e}')\n",
    "except Exception as e:\n",
    "    print(f'An error occurred: {e}')\n"
   ]
  },
  {
   "cell_type": "markdown",
   "id": "42964f64-63e4-47b1-b0d4-9e35a01d55b0",
   "metadata": {},
   "source": [
    "## mean size of image:"
   ]
  },
  {
   "cell_type": "code",
   "execution_count": 113,
   "id": "73cd7cbd-f48f-46d4-a9a6-7d193fc1f996",
   "metadata": {},
   "outputs": [
    {
     "name": "stdout",
     "output_type": "stream",
     "text": [
      "height is 2448 width is :  3264\n",
      " mean red intensity : 130.07170807201558,\n",
      " mean green intensity : 49.72882374967961, \n",
      " mean blue intensity : 31.580118424003587\n"
     ]
    }
   ],
   "source": [
    "from PIL import Image\n",
    "import numpy as np\n",
    "try:\n",
    "    image_path = r'C:\\Users\\A J Laptops\\Documents\\photos\\KujiCam\\KUJICAM_2019-04-08-00-45-02.jpg'\n",
    "    image = Image.open(image_path)\n",
    "    #image.show()\n",
    "    height ,width = image.size\n",
    "    print(\"height is\" ,str(height) + \" width is : \" ,str(width))\n",
    "    np_image = np.array(image)\n",
    "    r,g,b = np_image[:,:,0], np_image[:,:,1], np_image[:,:,2]\n",
    "    mean_r =np.mean(r)\n",
    "    mean_g = np.mean(g)\n",
    "    mean_b = np.mean(b)\n",
    "    print(f' mean red intensity : {mean_r},\\n mean green intensity : {mean_g}, \\n mean blue intensity : {mean_b}')\n",
    "except FileNotfoundError as e:\n",
    "    print(e)"
   ]
  },
  {
   "cell_type": "markdown",
   "id": "c4778394-3d59-4758-ad96-62030476af0a",
   "metadata": {},
   "source": [
    "Image Type: Identify whether the image is grayscale or colored"
   ]
  },
  {
   "cell_type": "code",
   "execution_count": 114,
   "id": "2268c5d4-8ff7-4e68-9e4c-5cc2f7182ee6",
   "metadata": {},
   "outputs": [
    {
     "name": "stdout",
     "output_type": "stream",
     "text": [
      "rgb\n"
     ]
    }
   ],
   "source": [
    "from PIL import Image \n",
    "try:\n",
    "    image_path = r'C:\\Users\\A J Laptops\\Documents\\photos\\KujiCam\\KUJICAM_2019-04-08-00-45-02.jpg'\n",
    "    image = Image.open(image_path)\n",
    "    #image.show()\n",
    "    image_mode = image.mode\n",
    "    if image_mode == 'L':\n",
    "        print(\"grey scale image\")\n",
    "    elif image_mode == 'RGB':\n",
    "        print(\"rgb\")\n",
    "    else:\n",
    "        print(\"cant identify mode\")\n",
    "except Exception as e:\n",
    "    print(e)"
   ]
  },
  {
   "cell_type": "markdown",
   "id": "ece99b1e-a9b3-4a75-bf44-1086ebafa90d",
   "metadata": {},
   "source": [
    "## Tif tifffile\n",
    "opening \n",
    "rgb or grey scale\n"
   ]
  },
  {
   "cell_type": "code",
   "execution_count": 135,
   "id": "f5f7a887-4aef-410d-aadb-d5f57712dca4",
   "metadata": {},
   "outputs": [
    {
     "name": "stdout",
     "output_type": "stream",
     "text": [
      "Width: 3567, Height: 3211\n",
      "Number of color channels: 3\n",
      "71581316\n",
      "69903.62890625\n",
      " mean red intensity : 139.30995054234737,\n",
      " mean green intensity : 137.5170028524564, \n",
      " mean blue intensity : 137.42695721891658\n",
      "File not found: 'numpy.ndarray' object has no attribute 'mode'\n"
     ]
    }
   ],
   "source": [
    "import tifffile as tiff\n",
    "import os \n",
    "import numpy as np\n",
    "image_path = r'C:\\Users\\A J Laptops\\Desktop\\Work_2\\TIBBI\\TIBBI\\TIBBI_RASTOR\\TIBBI_CCM.tif'\n",
    "try:\n",
    "    image = tiff.imread(image_path)\n",
    "   #tiff.imshow(image)\n",
    "    height, width = image.shape[:2]\n",
    "    print(f'Width: {width}, Height: {height}')\n",
    "    if len(image.shape) == 3: \n",
    "        channels = image.shape[2]\n",
    "        print(f'Number of color channels: {channels}') \n",
    "    else: \n",
    "        channels = 1 \n",
    "        print(f'Number of color channels: 1 (Grayscale)')\n",
    "    file_size_bytes = os.path.getsize(image_path)\n",
    "    print(file_size_bytes)\n",
    "    kbs = file_size_bytes / 1024\n",
    "    print(kbs)\n",
    "    np_image = np.array(image)\n",
    "    r,g,b = np_image[:,:,0], np_image[:,:,1], np_image[:,:,2]\n",
    "    mean_r =np.mean(r)\n",
    "    mean_g = np.mean(g)\n",
    "    mean_b = np.mean(b)\n",
    "    print(f' mean red intensity : {mean_r},\\n mean green intensity : {mean_g}, \\n mean blue intensity : {mean_b}')\n",
    "    image_mode = image.mode\n",
    "    if image_mode == 'L':\n",
    "        print(\"grey scale image\")\n",
    "    elif image_mode == 'RGB':\n",
    "        print(\"rgb\")\n",
    "    else:\n",
    "        print(\"cant identify mode\")\n",
    "except Exception as e:\n",
    "    print(f\"File not found: {e}\")"
   ]
  },
  {
   "cell_type": "code",
   "execution_count": null,
   "id": "8175b34b-cc58-4912-86c4-7adc54f02f36",
   "metadata": {},
   "outputs": [],
   "source": []
  }
 ],
 "metadata": {
  "kernelspec": {
   "display_name": "Python 3 (ipykernel)",
   "language": "python",
   "name": "python3"
  },
  "language_info": {
   "codemirror_mode": {
    "name": "ipython",
    "version": 3
   },
   "file_extension": ".py",
   "mimetype": "text/x-python",
   "name": "python",
   "nbconvert_exporter": "python",
   "pygments_lexer": "ipython3",
   "version": "3.12.7"
  }
 },
 "nbformat": 4,
 "nbformat_minor": 5
}
